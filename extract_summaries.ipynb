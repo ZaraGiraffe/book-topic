{
 "cells": [
  {
   "cell_type": "code",
   "id": "initial_id",
   "metadata": {
    "collapsed": true,
    "ExecuteTime": {
     "end_time": "2025-02-23T00:07:42.354258Z",
     "start_time": "2025-02-23T00:07:42.344517Z"
    }
   },
   "source": [
    "from openai import OpenAI\n",
    "from dotenv import load_dotenv\n",
    "import os\n",
    "\n",
    "load_dotenv()"
   ],
   "outputs": [
    {
     "data": {
      "text/plain": [
       "True"
      ]
     },
     "execution_count": 28,
     "metadata": {},
     "output_type": "execute_result"
    }
   ],
   "execution_count": 28
  },
  {
   "metadata": {
    "ExecuteTime": {
     "end_time": "2025-02-23T00:07:43.055928Z",
     "start_time": "2025-02-23T00:07:43.012546Z"
    }
   },
   "cell_type": "code",
   "source": "client = OpenAI(api_key=os.getenv(\"OPENAI_API_KEY\"))",
   "id": "cd09c330ea3f57eb",
   "outputs": [],
   "execution_count": 29
  },
  {
   "metadata": {
    "ExecuteTime": {
     "end_time": "2025-02-22T14:46:18.283536Z",
     "start_time": "2025-02-22T14:46:18.280320Z"
    }
   },
   "cell_type": "code",
   "source": [
    "def make_completion(prompt: str) -> str:\n",
    "    answer = client.chat.completions.create(\n",
    "        model=\"gpt-4o\",\n",
    "        messages=[\n",
    "            {\n",
    "                \"role\": \"user\",\n",
    "                \"content\": prompt,\n",
    "            },\n",
    "        ]\n",
    "    )\n",
    "    return answer.choices[0].message.content"
   ],
   "id": "b8788ff9472fea21",
   "outputs": [],
   "execution_count": 4
  },
  {
   "metadata": {
    "ExecuteTime": {
     "end_time": "2025-02-22T14:46:18.792560Z",
     "start_time": "2025-02-22T14:46:18.790072Z"
    }
   },
   "cell_type": "code",
   "source": [
    "PROMPT_TEMPLATE = \"\"\"I will give you the name of the book, your task is to search for it in the internet and construct one sentence what the book is about. I will need this sentence in order to determine the topics of this book.\n",
    "If you can not find the information about the book you should tell it.\n",
    "\n",
    "Book name:\n",
    "{book_name}\n",
    "\n",
    "Return the answer in the following JSON format:\n",
    "{{\n",
    "  \"know\": <str, 'yes' or 'no'>,\n",
    "  \"sentence\": <str, the sentence that tells what the book is about. Do not return this key if 'know' keys is no>\n",
    "}}\n",
    "Do not return additional text, except json answer.\"\"\""
   ],
   "id": "3ea55f60d47875de",
   "outputs": [],
   "execution_count": 5
  },
  {
   "metadata": {
    "ExecuteTime": {
     "end_time": "2025-02-22T14:46:19.337808Z",
     "start_time": "2025-02-22T14:46:19.333023Z"
    }
   },
   "cell_type": "code",
   "source": [
    "import re\n",
    "import json\n",
    "\n",
    "def get_summary(book_name: str):\n",
    "    prompt = PROMPT_TEMPLATE.format(book_name=book_name)\n",
    "    response = make_completion(prompt)\n",
    "    if not response:\n",
    "        return Exception(\"No response\")\n",
    "    match = re.search(r\"\\{.*\\}\", response, re.DOTALL)\n",
    "    if match:\n",
    "        data = json.loads(match.group(0))\n",
    "        if \"sentence\" in data:\n",
    "            return data[\"sentence\"]\n",
    "        else:\n",
    "            return Exception(\"No sentence key in json: {}\".format(response))\n",
    "    else:\n",
    "        return Exception(\"Wrong json output: {}\".format(response))"
   ],
   "id": "c18f742920019441",
   "outputs": [],
   "execution_count": 6
  },
  {
   "metadata": {
    "ExecuteTime": {
     "end_time": "2025-02-22T23:07:40.411705Z",
     "start_time": "2025-02-22T23:07:38.822946Z"
    }
   },
   "cell_type": "code",
   "source": "get_summary(\"The Infinite Game by Simon Sinek\")",
   "id": "48277756c2f0e559",
   "outputs": [
    {
     "data": {
      "text/plain": [
       "'The Infinite Game by Simon Sinek explores the concept of business and leadership as an infinite game, focusing on vision and societal impact rather than finite goals and immediate success.'"
      ]
     },
     "execution_count": 27,
     "metadata": {},
     "output_type": "execute_result"
    }
   ],
   "execution_count": 27
  },
  {
   "metadata": {
    "ExecuteTime": {
     "end_time": "2025-02-22T17:21:48.626075Z",
     "start_time": "2025-02-22T17:21:48.613671Z"
    }
   },
   "cell_type": "code",
   "source": [
    "import pandas as pd\n",
    "\n",
    "df = pd.read_csv(\"save/data.csv\")"
   ],
   "id": "17491cb52e98aa4f",
   "outputs": [],
   "execution_count": 21
  },
  {
   "metadata": {
    "ExecuteTime": {
     "end_time": "2025-02-22T15:24:02.395845Z",
     "start_time": "2025-02-22T14:46:25.650332Z"
    }
   },
   "cell_type": "code",
   "source": [
    "from tqdm.auto import tqdm\n",
    "\n",
    "summaries = {}\n",
    "for book_name in tqdm(df[\"name\"]):\n",
    "    summary = get_summary(book_name)\n",
    "    if isinstance(summary, str):\n",
    "        summaries[book_name] = summary\n",
    "    else:\n",
    "        print(book_name)\n",
    "        summaries[book_name] = book_name"
   ],
   "id": "38466bc3e57def54",
   "outputs": [
    {
     "name": "stderr",
     "output_type": "stream",
     "text": [
      "100%|██████████| 1216/1216 [37:36<00:00,  1.86s/it]\n"
     ]
    }
   ],
   "execution_count": 9
  },
  {
   "metadata": {
    "ExecuteTime": {
     "end_time": "2025-02-22T15:24:02.460997Z",
     "start_time": "2025-02-22T15:24:02.454068Z"
    }
   },
   "cell_type": "code",
   "source": "json.dump(summaries, open(\"save/summaries.json\", \"w\"))",
   "id": "93eb272a924f56b2",
   "outputs": [],
   "execution_count": 10
  },
  {
   "metadata": {
    "ExecuteTime": {
     "end_time": "2025-02-22T23:03:05.980682Z",
     "start_time": "2025-02-22T23:03:04.495765Z"
    }
   },
   "cell_type": "code",
   "source": "get_summary(\"StrengthsFinder 2.0 by Tom Rath\")",
   "id": "69f4ed0aae90d7fc",
   "outputs": [
    {
     "data": {
      "text/plain": [
       "'StrengthsFinder 2.0 by Tom Rath is a book that helps readers identify their top strengths and offers strategies to utilize them effectively for personal and professional growth.'"
      ]
     },
     "execution_count": 26,
     "metadata": {},
     "output_type": "execute_result"
    }
   ],
   "execution_count": 26
  },
  {
   "metadata": {},
   "cell_type": "code",
   "outputs": [],
   "execution_count": null,
   "source": [
    "# Books that don't have summaries\n",
    "\n",
    "\"The Richest Man in Babylon — Six Laws of Wealth by Charles Conrad\"\n",
    "\"Me: Elton John Official Biography by Elton John\"\n",
    "\"The Coronavirus Pandemic: An essential guide to the SARS-CoV-2, COVID-19, and the key measures for safety by Headway Editorial Team\"\n",
    "\"Self-Discipline in Difficult Times: Pressing Ahead (or Not) When Your World Turns Upside Down by Martin Meadows\"\n",
    "\"The Law of Attraction: How to Attract Money, Love, and Happiness by David R. Hooper\"\n",
    "\"Million Dollar Habits: 27 Powerful Habits to Wire Your Mind for Success, Become Truly Happy, and Achieve Financial Freedom by Stellan Moreira\"\n",
    "\"The Magic of Believing: Unlock Your Potentials by Claude. M. Bristol\"\n",
    "\"Negotiation Hacks: Expert Tactics To Get What You Want by Simon Rycraft\"\n",
    "\"Have a New Kid by Friday: How To Change Your Child’s Attitude, Behavior and Character in 5 Days by Kevin Lemar, Ph.D.\"\n",
    "\"Exceptional: Build Your Personal Highlight Reel and Unlock Your Potential by Daniel M. Cable\"\n",
    "\"The Side Hustle: A Beginners Guide to Level-Up from a 9-5 to 6 Side Hustles That Will Create Multiple Streams of Income by Aubrey Hall\"\n",
    "\"The book to test and delete by Mark Hyman, M.D.\"\n",
    "\"How to Talk Anyone: 92 Little Tricks for Big Success in Relationships - test by Leil Lowndes\"\n",
    "\"The 5 Love Languages: The Secret to Love that Lasts - test by Gary D. Chapman, Ph.D.\"\n",
    "\"13 Things Mentally Strong People Don’t Do: Take Back Your Power, Embrace Change, Face Your Fears, and Train Your Brain for Happiness and Success - test by Amy Morin\"\n",
    "\"Have a New Sex Life by Friday: Because Your Marriage Can’t Wait Till Monday - test by Dr. Kevin Leman\"\n",
    "\"Music Theory: From Absolute Beginner to Expert — The Ultimate Step-By-Step Guide to Understanding and Learning Music Theory Effortlessly - test by Nicolas Carter\"\n",
    "\"CHATGPT BOOK FOR BEGINNERS: Getting Started with ChatGPT, The Ultimate Beginner's Guide to Use ChatGPT Effectively, Earn Money and Increase Your Productivity 10x by Arsath Natheem\""
   ],
   "id": "5da60a14551138d"
  },
  {
   "metadata": {},
   "cell_type": "code",
   "outputs": [],
   "execution_count": null,
   "source": "",
   "id": "4c7a9a38d5b3d453"
  }
 ],
 "metadata": {
  "kernelspec": {
   "display_name": "Python 3",
   "language": "python",
   "name": "python3"
  },
  "language_info": {
   "codemirror_mode": {
    "name": "ipython",
    "version": 2
   },
   "file_extension": ".py",
   "mimetype": "text/x-python",
   "name": "python",
   "nbconvert_exporter": "python",
   "pygments_lexer": "ipython2",
   "version": "2.7.6"
  }
 },
 "nbformat": 4,
 "nbformat_minor": 5
}
