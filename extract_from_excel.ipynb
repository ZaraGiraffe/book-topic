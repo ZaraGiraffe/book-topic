{
 "cells": [
  {
   "cell_type": "code",
   "id": "initial_id",
   "metadata": {
    "collapsed": true,
    "ExecuteTime": {
     "end_time": "2025-02-23T00:21:38.282456Z",
     "start_time": "2025-02-23T00:21:38.277201Z"
    }
   },
   "source": [
    "import pandas as pd\n",
    "import re\n",
    "from collections import Counter\n",
    "import json"
   ],
   "outputs": [],
   "execution_count": 48
  },
  {
   "metadata": {
    "ExecuteTime": {
     "end_time": "2025-02-23T00:21:38.905192Z",
     "start_time": "2025-02-23T00:21:38.535499Z"
    }
   },
   "cell_type": "code",
   "source": [
    "example_dataset = pd.read_excel(\"data.xlsx\", sheet_name=\"Example dataset\")\n",
    "categories = pd.read_excel(\"data.xlsx\", sheet_name=\"Categories\", header=None)"
   ],
   "id": "72400fff10a2b346",
   "outputs": [],
   "execution_count": 49
  },
  {
   "metadata": {
    "ExecuteTime": {
     "end_time": "2025-02-23T00:21:39.394465Z",
     "start_time": "2025-02-23T00:21:39.390025Z"
    }
   },
   "cell_type": "code",
   "source": [
    "def extract_category(category):\n",
    "    pattern1 = re.compile(\"Books on ([-a-zA-Z ]+)\")\n",
    "    pattern2 = re.compile(\"Books about ([-a-zA-Z ]+)\")\n",
    "    pattern3 = re.compile(\"([-a-zA-Z ]+) Books\")\n",
    "\n",
    "    match1 = pattern1.match(category)\n",
    "    match2 = pattern2.match(category)\n",
    "    match3 = pattern3.match(category)\n",
    "\n",
    "    if match1:\n",
    "        return match1.group(1)\n",
    "    elif match2:\n",
    "        return match2.group(1)\n",
    "    elif match3:\n",
    "        return match3.group(1)\n",
    "    else:\n",
    "        print(f\"Bad category: {category}\")\n",
    "        return category"
   ],
   "id": "2dd0c46aa7822ef8",
   "outputs": [],
   "execution_count": 50
  },
  {
   "metadata": {
    "ExecuteTime": {
     "end_time": "2025-02-23T00:21:40.035268Z",
     "start_time": "2025-02-23T00:21:40.029120Z"
    }
   },
   "cell_type": "code",
   "source": [
    "def parse_list_of_categories(text):\n",
    "    if not isinstance(text, str):\n",
    "        return []\n",
    "    lst = re.split(r\"[,\\n]\", text)\n",
    "    categories_list = list(map(lambda x:x.strip(), lst))\n",
    "    return categories_list\n",
    "\n",
    "def transform_list_of_categories(categories_list):\n",
    "    extracted_category_list = []\n",
    "    for category in categories_list:\n",
    "        new_category = extract_category(category)\n",
    "        extracted_category_list.append(new_category)\n",
    "    return extracted_category_list\n",
    "\n",
    "def get_list_of_categories(text):\n",
    "    return transform_list_of_categories(parse_list_of_categories(text))"
   ],
   "id": "ba976e533790ded8",
   "outputs": [],
   "execution_count": 51
  },
  {
   "metadata": {
    "ExecuteTime": {
     "end_time": "2025-02-23T00:21:40.548741Z",
     "start_time": "2025-02-23T00:21:40.476324Z"
    }
   },
   "cell_type": "code",
   "source": [
    "data = {\n",
    "    \"name\": [],\n",
    "    \"categories\": [],\n",
    "}\n",
    "for i, value in example_dataset.iterrows():\n",
    "    lst = get_list_of_categories(value[\"Categories\"])\n",
    "    if lst:\n",
    "        data[\"name\"].append(value[\"Title\"])\n",
    "        data[\"categories\"].append(json.dumps(lst))"
   ],
   "id": "c118c1b23f07ba30",
   "outputs": [
    {
     "name": "stdout",
     "output_type": "stream",
     "text": [
      "Bad category: Books by David Foster Wallace\n",
      "Bad category: Books Based on True Stories\n",
      "Bad category: Children's Behavior\n",
      "Bad category: Books on 9/11\n"
     ]
    }
   ],
   "execution_count": 52
  },
  {
   "metadata": {
    "ExecuteTime": {
     "end_time": "2025-02-23T00:21:41.093293Z",
     "start_time": "2025-02-23T00:21:41.078625Z"
    }
   },
   "cell_type": "code",
   "source": [
    "import os\n",
    "\n",
    "if not os.path.exists(\"save\"):\n",
    "    os.mkdir(\"save\")\n",
    "\n",
    "pd.DataFrame(data).to_csv(\"save/data.csv\", index=False)"
   ],
   "id": "b0b3a5de45bf7013",
   "outputs": [],
   "execution_count": 53
  },
  {
   "metadata": {
    "ExecuteTime": {
     "end_time": "2025-02-23T00:21:41.873785Z",
     "start_time": "2025-02-23T00:21:41.831726Z"
    }
   },
   "cell_type": "code",
   "source": [
    "category_counter = Counter()\n",
    "df = pd.read_csv(\"save/data.csv\")\n",
    "for i, row in df.iterrows():\n",
    "    new_categories = json.loads(row[\"categories\"])\n",
    "    for category in new_categories:\n",
    "        category_counter[category] += 1"
   ],
   "id": "e9f14118c18390a5",
   "outputs": [],
   "execution_count": 54
  },
  {
   "metadata": {
    "ExecuteTime": {
     "end_time": "2025-02-23T00:21:43.052144Z",
     "start_time": "2025-02-23T00:21:42.886281Z"
    }
   },
   "cell_type": "code",
   "source": [
    "import seaborn as sns\n",
    "import matplotlib.pyplot as plt\n",
    "\n",
    "sns.histplot(category_counter.values(), bins=10, log_scale=True)\n",
    "plt.show()"
   ],
   "id": "433c4449a97aa718",
   "outputs": [
    {
     "data": {
      "text/plain": [
       "<Figure size 640x480 with 1 Axes>"
      ],
      "image/png": "[encoded data removed]"
     },
     "metadata": {},
     "output_type": "display_data"
    }
   ],
   "execution_count": 55
  },
  {
   "metadata": {
    "ExecuteTime": {
     "end_time": "2025-02-23T00:21:43.757891Z",
     "start_time": "2025-02-23T00:21:43.753620Z"
    }
   },
   "cell_type": "code",
   "source": "len(category_counter)",
   "id": "50c54be8acd7de3d",
   "outputs": [
    {
     "data": {
      "text/plain": [
       "1882"
      ]
     },
     "execution_count": 56,
     "metadata": {},
     "output_type": "execute_result"
    }
   ],
   "execution_count": 56
  },
  {
   "metadata": {},
   "cell_type": "code",
   "outputs": [],
   "execution_count": null,
   "source": "",
   "id": "64e7d315d4863771"
  }
 ],
 "metadata": {
  "kernelspec": {
   "display_name": "Python 3",
   "language": "python",
   "name": "python3"
  },
  "language_info": {
   "codemirror_mode": {
    "name": "ipython",
    "version": 2
   },
   "file_extension": ".py",
   "mimetype": "text/x-python",
   "name": "python",
   "nbconvert_exporter": "python",
   "pygments_lexer": "ipython2",
   "version": "2.7.6"
  }
 },
 "nbformat": 4,
 "nbformat_minor": 5
}
