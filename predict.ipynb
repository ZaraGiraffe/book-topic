{
 "cells": [
  {
   "cell_type": "code",
   "id": "initial_id",
   "metadata": {
    "collapsed": true,
    "ExecuteTime": {
     "end_time": "2025-02-22T20:57:42.452476Z",
     "start_time": "2025-02-22T20:57:42.329239Z"
    }
   },
   "source": [
    "import pandas as pd\n",
    "\n",
    "test_dataset = pd.read_excel(\"data.xlsx\", sheet_name=\"Test dataset\")\n",
    "categories = pd.read_excel(\"data.xlsx\", sheet_name=\"Categories\", header=None)[0].tolist()"
   ],
   "outputs": [],
   "execution_count": 5
  },
  {
   "metadata": {
    "ExecuteTime": {
     "end_time": "2025-02-22T21:01:20.038331Z",
     "start_time": "2025-02-22T21:01:20.034172Z"
    }
   },
   "cell_type": "code",
   "source": [
    "import re\n",
    "\n",
    "def extract_category(category):\n",
    "    pattern1 = re.compile(\"Books on ([-a-zA-Z ]+)\")\n",
    "    pattern2 = re.compile(\"Books about ([-a-zA-Z ]+)\")\n",
    "    pattern3 = re.compile(\"([-a-zA-Z ]+) Books\")\n",
    "\n",
    "    match1 = pattern1.match(category)\n",
    "    match2 = pattern2.match(category)\n",
    "    match3 = pattern3.match(category)\n",
    "\n",
    "    if match1:\n",
    "        return match1.group(1)\n",
    "    elif match2:\n",
    "        return match2.group(1)\n",
    "    elif match3:\n",
    "        return match3.group(1)\n",
    "    else:\n",
    "        return category"
   ],
   "id": "195a7839532f9e98",
   "outputs": [],
   "execution_count": 7
  },
  {
   "metadata": {
    "ExecuteTime": {
     "end_time": "2025-02-22T21:01:44.651606Z",
     "start_time": "2025-02-22T21:01:44.646125Z"
    }
   },
   "cell_type": "code",
   "source": "extracted_categories = [extract_category(category) for category in categories]",
   "id": "c8b4533d8dc1329b",
   "outputs": [],
   "execution_count": 8
  },
  {
   "metadata": {
    "ExecuteTime": {
     "end_time": "2025-02-22T21:03:33.256531Z",
     "start_time": "2025-02-22T21:03:33.251213Z"
    }
   },
   "cell_type": "code",
   "source": [
    "PROMPT_TEMPLATE = \"\"\"I will give you the name of the book, your task is to search for it in the internet and construct one sentence what the book is about. I will need this sentence in order to determine the topics of this book.\n",
    "If you can not find the information about the book you should tell it.\n",
    "\n",
    "Book name:\n",
    "{book_name}\n",
    "\n",
    "Return the answer in the following JSON format:\n",
    "{{\n",
    "  \"know\": <str, 'yes' or 'no'>,\n",
    "  \"sentence\": <str, the sentence that tells what the book is about. Do not return this key if 'know' keys is no>\n",
    "}}\n",
    "Do not return additional text, except json answer.\"\"\""
   ],
   "id": "7a6b09529fe27b6b",
   "outputs": [],
   "execution_count": 10
  },
  {
   "metadata": {
    "ExecuteTime": {
     "end_time": "2025-02-22T21:05:30.436864Z",
     "start_time": "2025-02-22T21:05:30.401334Z"
    }
   },
   "cell_type": "code",
   "source": [
    "import os\n",
    "from openai import OpenAI\n",
    "import json\n",
    "from dotenv import load_dotenv\n",
    "\n",
    "\n",
    "load_dotenv()\n",
    "client = OpenAI(api_key=os.getenv(\"OPENAI_API_KEY\"))\n",
    "\n",
    "\n",
    "def make_completion(prompt: str) -> str:\n",
    "    answer = client.chat.completions.create(\n",
    "        model=\"gpt-4o\",\n",
    "        messages=[\n",
    "            {\n",
    "                \"role\": \"user\",\n",
    "                \"content\": prompt,\n",
    "            },\n",
    "        ]\n",
    "    )\n",
    "    return answer.choices[0].message.content\n",
    "\n",
    "\n",
    "def get_summary(book_name: str):\n",
    "    prompt = PROMPT_TEMPLATE.format(book_name=book_name)\n",
    "    response = make_completion(prompt)\n",
    "    if not response:\n",
    "        return Exception(\"No response\")\n",
    "    match = re.search(r\"\\{.*\\}\", response, re.DOTALL)\n",
    "    if match:\n",
    "        data = json.loads(match.group(0))\n",
    "        if \"sentence\" in data:\n",
    "            return data[\"sentence\"]\n",
    "        else:\n",
    "            return Exception(\"No sentence key in json: {}\".format(response))\n",
    "    else:\n",
    "        return Exception(\"Wrong json output: {}\".format(response))"
   ],
   "id": "21c059c03bb394b5",
   "outputs": [],
   "execution_count": 12
  },
  {
   "metadata": {
    "ExecuteTime": {
     "end_time": "2025-02-22T21:13:23.528357Z",
     "start_time": "2025-02-22T21:06:52.797608Z"
    }
   },
   "cell_type": "code",
   "source": [
    "from tqdm.auto import tqdm\n",
    "\n",
    "summaries = {}\n",
    "for book_name in tqdm(test_dataset[\"Title\"]):\n",
    "    summary = get_summary(book_name)\n",
    "    if isinstance(summary, str):\n",
    "        summaries[book_name] = summary\n",
    "    else:\n",
    "        print(book_name)\n",
    "        summaries[book_name] = book_name"
   ],
   "id": "f15d8d86ab54b083",
   "outputs": [
    {
     "data": {
      "text/plain": [
       "  0%|          | 0/199 [00:00<?, ?it/s]"
      ],
      "application/vnd.jupyter.widget-view+json": {
       "version_major": 2,
       "version_minor": 0,
       "model_id": "b8a894313cd94acdaa21ef39e6301b72"
      }
     },
     "metadata": {},
     "output_type": "display_data"
    },
    {
     "name": "stdout",
     "output_type": "stream",
     "text": [
      "Психологічна допомога by За матеріалами Центру громадського здоров’я, Міністерства охорони здоровʼя (МОЗ) України та платформи «ВзаємоДія»\n",
      "The Parallel Parenting Solution: Eliminate Conflict with Your Ex, Create the Life You Want by Karl Knickerbocker, J.D.\n",
      "Why, When, and How by based on articles by Vox, BBC, The New York Times, The Guardian, Vice, Politico, and Radio Liberty\n",
      "Global Response by based on articles by Vox, BBC, The New York Times, The Guardian, Vice, Politico, and Radio Liberty\n",
      "On the Brink of New Chornobyl by based on articles by Vox, BBC, The New York Times, The Guardian, Vice, Politico, and Radio Liberty\n",
      "The Power of Russian Propaganda by based on articles by Vox, BBC, The New York Times, The Guardian, Vice, Politico, and Radio Liberty\n",
      "How to Live: 27 Conflicting Answers and One Weird Conclusion by Derek Sivers\n",
      "Техногенна небезпека by За матеріалами Міністерства охорони здоров’я України.\n",
      "Усе про укриття by За матеріалами Центру стратегічних комунікацій та інформаційної безпеки, Державної служби України з надзвичайних ситуацій, Міністерства соціальної політики України, Офісу Президента України та UNICEF Ukraine\n",
      "Воєнні дії та зустріч із ворогом by За матеріалами Центру стратегічних комунікацій та інформаційної безпеки й Державної служби України з надзвичайних ситуацій\n",
      "Жінкам під час війни by За матеріалами Міністерства охорони здоровʼя (МОЗ) України, Центру стратегічних комунікацій та інформаційної безпеки, ГО «Марш Жінок», акушерок-гінекологинь Наталії Лелюх та Вікторії Бугро\n",
      "Інформаційна безпека by За матеріалами Центру стратегічних комунікацій, Міністерства цифрової трансформації України, платформи «ВзаємоДія», експертки з комунікацій Тані Стороженко\n",
      "Домедична допомога by За матеріалами Центру громадського здоров’я, Державної служби України з надзвичайних ситуацій (ДСНС) та Міністерства охорони здоров’я (МОЗ) України\n",
      "Евакуація by За матеріалами Офісу Президента України та платформи «ВзаємоДія»\n"
     ]
    }
   ],
   "execution_count": 13
  },
  {
   "metadata": {
    "ExecuteTime": {
     "end_time": "2025-02-22T21:14:47.758312Z",
     "start_time": "2025-02-22T21:14:41.771746Z"
    }
   },
   "cell_type": "code",
   "source": [
    "from sentence_transformers import SentenceTransformer\n",
    "\n",
    "model = SentenceTransformer(\"all-MiniLM-L6-v2\")"
   ],
   "id": "b46f69260da3e404",
   "outputs": [],
   "execution_count": 14
  },
  {
   "metadata": {
    "ExecuteTime": {
     "end_time": "2025-02-22T21:15:03.908933Z",
     "start_time": "2025-02-22T21:15:02.964046Z"
    }
   },
   "cell_type": "code",
   "source": "title_embeddings = model.encode(extracted_categories)",
   "id": "4f06a2e069c19162",
   "outputs": [],
   "execution_count": 15
  },
  {
   "metadata": {
    "ExecuteTime": {
     "end_time": "2025-02-22T21:23:16.694343Z",
     "start_time": "2025-02-22T21:23:10.261933Z"
    }
   },
   "cell_type": "code",
   "source": [
    "import torch\n",
    "\n",
    "k = 15\n",
    "predicted_categories = {\"categories\": []}\n",
    "\n",
    "for book_name in tqdm(test_dataset[\"Title\"]):\n",
    "    book_embedding = model.encode(summaries[book_name])\n",
    "    scores = model.similarity(book_embedding, title_embeddings)\n",
    "    _, index = torch.sort(scores, descending=True)\n",
    "    book_categories = [categories[index[0][i]] for i in range(k)]\n",
    "    predicted_categories[\"categories\"].append(\"\\n\".join(book_categories))\n",
    "\n",
    "df_predicted = pd.DataFrame(predicted_categories)"
   ],
   "id": "bbde9c878aa8faf0",
   "outputs": [
    {
     "data": {
      "text/plain": [
       "  0%|          | 0/199 [00:00<?, ?it/s]"
      ],
      "application/vnd.jupyter.widget-view+json": {
       "version_major": 2,
       "version_minor": 0,
       "model_id": "64fd6189f6a34328980ce72b475b48e8"
      }
     },
     "metadata": {},
     "output_type": "display_data"
    }
   ],
   "execution_count": 38
  },
  {
   "metadata": {
    "ExecuteTime": {
     "end_time": "2025-02-23T00:25:16.521788Z",
     "start_time": "2025-02-23T00:25:16.490516Z"
    }
   },
   "cell_type": "code",
   "source": "pd.concat([test_dataset, df_predicted], axis=1).to_excel(\"predicted.xlsx\", index=False)",
   "id": "3208e9f8d4f23d9f",
   "outputs": [],
   "execution_count": 46
  },
  {
   "metadata": {},
   "cell_type": "code",
   "outputs": [],
   "execution_count": null,
   "source": "",
   "id": "1968ab8ea46130ee"
  }
 ],
 "metadata": {
  "kernelspec": {
   "display_name": "Python 3",
   "language": "python",
   "name": "python3"
  },
  "language_info": {
   "codemirror_mode": {
    "name": "ipython",
    "version": 2
   },
   "file_extension": ".py",
   "mimetype": "text/x-python",
   "name": "python",
   "nbconvert_exporter": "python",
   "pygments_lexer": "ipython2",
   "version": "2.7.6"
  }
 },
 "nbformat": 4,
 "nbformat_minor": 5
}
