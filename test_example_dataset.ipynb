{
 "cells": [
  {
   "cell_type": "code",
   "id": "initial_id",
   "metadata": {
    "collapsed": true,
    "ExecuteTime": {
     "end_time": "2025-02-23T00:21:51.436567Z",
     "start_time": "2025-02-23T00:21:49.314075Z"
    }
   },
   "source": [
    "from sentence_transformers import SentenceTransformer\n",
    "\n",
    "model = SentenceTransformer(\"all-MiniLM-L6-v2\")"
   ],
   "outputs": [],
   "execution_count": 135
  },
  {
   "metadata": {
    "ExecuteTime": {
     "end_time": "2025-02-23T00:21:51.884255Z",
     "start_time": "2025-02-23T00:21:51.870530Z"
    }
   },
   "cell_type": "code",
   "source": [
    "import pandas as pd\n",
    "import json\n",
    "\n",
    "df = pd.read_csv(\"save/data.csv\", encoding=\"utf-8\")\n",
    "summaries = json.load(open(\"./save/summaries.json\", encoding=\"utf-8\"))"
   ],
   "id": "115f9d84f6498534",
   "outputs": [],
   "execution_count": 136
  },
  {
   "metadata": {
    "ExecuteTime": {
     "end_time": "2025-02-23T00:27:42.390292Z",
     "start_time": "2025-02-23T00:21:52.432745Z"
    }
   },
   "cell_type": "code",
   "source": [
    "from tqdm.auto import tqdm\n",
    "\n",
    "embeddings_list = []\n",
    "string_list = []\n",
    "for i, row in tqdm(df.iterrows()):\n",
    "    name_embedding = model.encode(row[\"name\"])\n",
    "    embeddings_list.append(name_embedding)\n",
    "    string_list.append(row[\"name\"])\n",
    "    if row[\"name\"] not in summaries:\n",
    "        summary = row[\"name\"]\n",
    "        print(row[\"name\"])\n",
    "    else:\n",
    "        summary = summaries[row[\"name\"]]\n",
    "    summary_embedding = model.encode(summary)\n",
    "    embeddings_list.append(summary_embedding)\n",
    "    string_list.append(summary)\n",
    "    category_list = json.loads(row[\"categories\"])\n",
    "    for category in category_list:\n",
    "        name_embedding = model.encode(category)\n",
    "        embeddings_list.append(name_embedding)\n",
    "        string_list.append(category)"
   ],
   "id": "4fb3c786db5397d3",
   "outputs": [
    {
     "data": {
      "text/plain": [
       "0it [00:00, ?it/s]"
      ],
      "application/vnd.jupyter.widget-view+json": {
       "version_major": 2,
       "version_minor": 0,
       "model_id": "d76091d6713540c69930c8c5a04b16fc"
      }
     },
     "metadata": {},
     "output_type": "display_data"
    }
   ],
   "execution_count": 137
  },
  {
   "metadata": {
    "ExecuteTime": {
     "end_time": "2025-02-23T00:28:02.710186Z",
     "start_time": "2025-02-23T00:28:02.639320Z"
    }
   },
   "cell_type": "code",
   "source": [
    "import numpy as np\n",
    "import os\n",
    "\n",
    "if not os.path.exists(\"save\"):\n",
    "    os.mkdir(\"save\")\n",
    "\n",
    "json.dump(string_list, open(\"save/string_list.json\", \"w\"))\n",
    "embedding_array = np.array(embeddings_list)\n",
    "np.save(\"save/embedding_array.npy\", embedding_array)"
   ],
   "id": "6608ebb3285617a1",
   "outputs": [],
   "execution_count": 138
  },
  {
   "metadata": {
    "ExecuteTime": {
     "end_time": "2025-02-23T00:28:03.469903Z",
     "start_time": "2025-02-23T00:28:03.440712Z"
    }
   },
   "cell_type": "code",
   "source": [
    "loaded_string_list = json.load(open(\"save/string_list.json\"))\n",
    "loaded_embedding_array = np.load(\"save/embedding_array.npy\")\n",
    "\n",
    "string_to_embedding = {\n",
    "    key: value\n",
    "    for key, value in zip(loaded_string_list, loaded_embedding_array)\n",
    "}"
   ],
   "id": "ae6fbeab3442cb01",
   "outputs": [],
   "execution_count": 139
  },
  {
   "metadata": {
    "ExecuteTime": {
     "end_time": "2025-02-23T00:28:04.026607Z",
     "start_time": "2025-02-23T00:28:03.991587Z"
    }
   },
   "cell_type": "code",
   "source": [
    "all_categories = []\n",
    "name_to_categories = {}\n",
    "for i, value in df.iterrows():\n",
    "    name = value[\"name\"]\n",
    "    categories = json.loads(value[\"categories\"])\n",
    "    all_categories.extend(categories)\n",
    "    name_to_categories[name] = categories\n",
    "\n",
    "all_categories = list(set(all_categories))"
   ],
   "id": "d331381cf8ec8657",
   "outputs": [],
   "execution_count": 140
  },
  {
   "metadata": {
    "ExecuteTime": {
     "end_time": "2025-02-23T00:28:04.335413Z",
     "start_time": "2025-02-23T00:28:04.327099Z"
    }
   },
   "cell_type": "code",
   "source": "all_categories_embeddings = np.array([string_to_embedding[category] for category in all_categories])",
   "id": "7bfae68b7fa7a075",
   "outputs": [],
   "execution_count": 141
  },
  {
   "metadata": {
    "ExecuteTime": {
     "end_time": "2025-02-23T00:28:05.139772Z",
     "start_time": "2025-02-23T00:28:04.633023Z"
    }
   },
   "cell_type": "code",
   "source": [
    "name_to_all_scores = {}\n",
    "for i, value in df.iterrows():\n",
    "    name = value[\"name\"]\n",
    "    scores = model.similarity(string_to_embedding[name], all_categories_embeddings)\n",
    "    name_to_all_scores[name] = scores"
   ],
   "id": "f834e7e92fdd7e63",
   "outputs": [],
   "execution_count": 142
  },
  {
   "metadata": {
    "ExecuteTime": {
     "end_time": "2025-02-23T00:28:05.830703Z",
     "start_time": "2025-02-23T00:28:05.144104Z"
    }
   },
   "cell_type": "code",
   "source": [
    "name_to_all_summary_scores = {}\n",
    "for i, value in df.iterrows():\n",
    "    summary = summaries[value[\"name\"]]\n",
    "    scores = model.similarity(string_to_embedding[summary], all_categories_embeddings)\n",
    "    name_to_all_summary_scores[value[\"name\"]] = scores"
   ],
   "id": "95bf93f2bbade253",
   "outputs": [],
   "execution_count": 143
  },
  {
   "metadata": {
    "ExecuteTime": {
     "end_time": "2025-02-23T00:28:07.041025Z",
     "start_time": "2025-02-23T00:28:07.034209Z"
    }
   },
   "cell_type": "code",
   "source": [
    "import torch\n",
    "\n",
    "def get_rankings(book_name: str, version: str):\n",
    "    if version == \"raw\":\n",
    "        name_to_scores = name_to_all_scores\n",
    "    elif version == \"summary\":\n",
    "        name_to_scores = name_to_all_summary_scores\n",
    "    else:\n",
    "        raise ValueError(\"Unknown version\")\n",
    "    _, index = torch.sort(name_to_scores[book_name], descending=True)\n",
    "    index = index[0].tolist()\n",
    "    specific_categories = name_to_categories[book_name]\n",
    "    positions = [all_categories.index(c) for c in specific_categories]\n",
    "    rankings = [index.index(p) for p in positions]\n",
    "    rankings = sorted(rankings)\n",
    "    return rankings\n",
    "\n",
    "\n",
    "\n",
    "def top_k(book_name: str, version: str, k=15):\n",
    "    rankings = get_rankings(book_name, version)\n",
    "    count = 0\n",
    "    for ranking in rankings:\n",
    "        if ranking < k:\n",
    "            count += 1\n",
    "    return count / k\n",
    "\n",
    "\n",
    "def mean_avg_precision(book_name: str, version: str):\n",
    "    rankings = get_rankings(book_name, version)\n",
    "    _sum = 0.0\n",
    "    for i, ranking in enumerate(rankings):\n",
    "        _sum += (i + 1) / (ranking + 1)\n",
    "    metric = _sum / len(rankings)\n",
    "    return metric"
   ],
   "id": "2ea0cfbac8247292",
   "outputs": [],
   "execution_count": 144
  },
  {
   "metadata": {
    "ExecuteTime": {
     "end_time": "2025-02-23T00:28:08.576230Z",
     "start_time": "2025-02-23T00:28:07.727291Z"
    }
   },
   "cell_type": "code",
   "source": [
    "avg_top_k = np.mean([top_k(key, \"raw\") for key in name_to_categories.keys()])\n",
    "avg_mean_avg_precision = np.mean([mean_avg_precision(key, \"raw\") for key in name_to_categories.keys()])\n",
    "avg_top_k, avg_mean_avg_precision"
   ],
   "id": "714b53a49e44a605",
   "outputs": [
    {
     "data": {
      "text/plain": [
       "(np.float64(0.15751096491228067), np.float64(0.14951776486845036))"
      ]
     },
     "execution_count": 145,
     "metadata": {},
     "output_type": "execute_result"
    }
   ],
   "execution_count": 145
  },
  {
   "metadata": {
    "ExecuteTime": {
     "end_time": "2025-02-23T00:28:11.327980Z",
     "start_time": "2025-02-23T00:28:10.495383Z"
    }
   },
   "cell_type": "code",
   "source": [
    "avg_top_k = np.mean([top_k(key, \"summary\") for key in name_to_categories.keys()])\n",
    "avg_mean_avg_precision = np.mean([mean_avg_precision(key, \"summary\") for key in name_to_categories.keys()])\n",
    "avg_top_k, avg_mean_avg_precision"
   ],
   "id": "e55f3e5395ffab31",
   "outputs": [
    {
     "data": {
      "text/plain": [
       "(np.float64(0.19331140350877193), np.float64(0.18494782492576187))"
      ]
     },
     "execution_count": 146,
     "metadata": {},
     "output_type": "execute_result"
    }
   ],
   "execution_count": 146
  },
  {
   "metadata": {
    "ExecuteTime": {
     "end_time": "2025-02-23T00:33:37.612550Z",
     "start_time": "2025-02-23T00:33:37.604150Z"
    }
   },
   "cell_type": "code",
   "source": [
    "import random\n",
    "\n",
    "def random_top_k(k=15, exp=10000):\n",
    "    counts = []\n",
    "    for _ in range(exp):\n",
    "        rankings = sorted([random.randint(1, len(all_categories)) for _ in range(k)])\n",
    "        count = 0\n",
    "        for ranking in rankings:\n",
    "            if ranking < k:\n",
    "                count += 1\n",
    "        counts.append(count)\n",
    "    return np.mean(counts)\n",
    "\n",
    "def random_mean_avg_precision(k=15, exp=10000):\n",
    "    sums = []\n",
    "    for _ in range(exp):\n",
    "        rankings = sorted([random.randint(1, len(all_categories)) for _ in range(k)])\n",
    "        _sum = 0\n",
    "        for i, ranking in enumerate(rankings):\n",
    "            _sum += (i + 1) / ranking\n",
    "        sums.append(_sum / k)\n",
    "    return np.mean(sums)"
   ],
   "id": "89bae59f533d792c",
   "outputs": [],
   "execution_count": 147
  },
  {
   "metadata": {
    "ExecuteTime": {
     "end_time": "2025-02-23T00:33:38.366976Z",
     "start_time": "2025-02-23T00:33:38.208147Z"
    }
   },
   "cell_type": "code",
   "source": "random_top_k(), random_mean_avg_precision()",
   "id": "dc89906900b880eb",
   "outputs": [
    {
     "data": {
      "text/plain": [
       "(np.float64(0.117), np.float64(0.011795588880474205))"
      ]
     },
     "execution_count": 148,
     "metadata": {},
     "output_type": "execute_result"
    }
   ],
   "execution_count": 148
  },
  {
   "metadata": {
    "ExecuteTime": {
     "end_time": "2025-02-23T00:42:40.386467Z",
     "start_time": "2025-02-23T00:42:40.383323Z"
    }
   },
   "cell_type": "code",
   "source": [
    "def get_top_categories(book_name: str, k=10):\n",
    "    _, index = torch.sort(name_to_all_summary_scores[book_name], descending=True)\n",
    "    index = index[0].tolist()\n",
    "    predicted_categories = [all_categories[index[i]] for i in range(k)]\n",
    "    return predicted_categories"
   ],
   "id": "3178c3d4c4cacefe",
   "outputs": [],
   "execution_count": 155
  },
  {
   "metadata": {
    "ExecuteTime": {
     "end_time": "2025-02-23T00:42:40.791204Z",
     "start_time": "2025-02-23T00:42:40.787484Z"
    }
   },
   "cell_type": "code",
   "source": "get_top_categories(\"Two Awesome Hours: Science-Based Strategies to Harness Your Best Time and Get Your Most Important Work Done by Josh Davis\")",
   "id": "bac45dbb508cd0d8",
   "outputs": [
    {
     "data": {
      "text/plain": [
       "['Time Efficiency',\n",
       " 'Productivity',\n",
       " 'Work Efficiency',\n",
       " 'Time Management',\n",
       " 'Workplace Productivity',\n",
       " 'Time Optimization',\n",
       " 'Efficiency',\n",
       " 'Work-Life Integration',\n",
       " 'Time Mastery',\n",
       " 'Simplifying Life']"
      ]
     },
     "execution_count": 156,
     "metadata": {},
     "output_type": "execute_result"
    }
   ],
   "execution_count": 156
  },
  {
   "metadata": {},
   "cell_type": "code",
   "outputs": [],
   "execution_count": null,
   "source": "",
   "id": "1d9d87549b733608"
  }
 ],
 "metadata": {
  "kernelspec": {
   "display_name": "Python 3",
   "language": "python",
   "name": "python3"
  },
  "language_info": {
   "codemirror_mode": {
    "name": "ipython",
    "version": 2
   },
   "file_extension": ".py",
   "mimetype": "text/x-python",
   "name": "python",
   "nbconvert_exporter": "python",
   "pygments_lexer": "ipython2",
   "version": "2.7.6"
  }
 },
 "nbformat": 4,
 "nbformat_minor": 5
}
